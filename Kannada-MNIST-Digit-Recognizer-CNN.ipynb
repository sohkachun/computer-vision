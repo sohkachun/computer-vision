{
 "cells": [
  {
   "cell_type": "code",
   "execution_count": 1,
   "metadata": {
    "_cell_guid": "79c7e3d0-c299-4dcb-8224-4455121ee9b0",
    "_uuid": "d629ff2d2480ee46fbb7e2d37f6b5fab8052498a",
    "execution": {
     "iopub.execute_input": "2023-11-07T15:25:14.716280Z",
     "iopub.status.busy": "2023-11-07T15:25:14.715854Z",
     "iopub.status.idle": "2023-11-07T15:25:14.724756Z",
     "shell.execute_reply": "2023-11-07T15:25:14.723733Z",
     "shell.execute_reply.started": "2023-11-07T15:25:14.716232Z"
    }
   },
   "outputs": [],
   "source": [
    "# Basic libraries\n",
    "import numpy as np\n",
    "import pandas as pd\n",
    "import matplotlib.pyplot as plt\n",
    "import seaborn as sns\n",
    "\n",
    "# Import the backend\n",
    "import tensorflow as tf\n",
    "\n",
    "# Data preprocessing\n",
    "from tensorflow.keras.preprocessing.image import ImageDataGenerator\n",
    "from tensorflow.keras.preprocessing import image\n",
    "\n",
    "\n",
    "# Model architecture\n",
    "from tensorflow.keras.models import Sequential\n",
    "from tensorflow.keras import Input\n",
    "from tensorflow.keras.layers import Dense, Dropout, Flatten, Conv2D, MaxPooling2D, BatchNormalization\n",
    "from tensorflow.keras.callbacks import  EarlyStopping\n",
    "from tensorflow.keras.models import Model\n",
    "\n",
    "\n",
    "\n",
    "\n",
    "\n"
   ]
  },
  {
   "cell_type": "markdown",
   "metadata": {},
   "source": [
    "# Load Data"
   ]
  },
  {
   "cell_type": "code",
   "execution_count": 2,
   "metadata": {
    "execution": {
     "iopub.execute_input": "2023-11-07T15:25:14.878133Z",
     "iopub.status.busy": "2023-11-07T15:25:14.877645Z",
     "iopub.status.idle": "2023-11-07T15:25:20.026705Z",
     "shell.execute_reply": "2023-11-07T15:25:20.025911Z",
     "shell.execute_reply.started": "2023-11-07T15:25:14.878064Z"
    }
   },
   "outputs": [],
   "source": [
    "\n",
    "train_data = pd.read_csv(\"/kaggle/input/Kannada-MNIST/train.csv\")#train data\n",
    "test_data = pd.read_csv(\"/kaggle/input/Kannada-MNIST/test.csv\")#test data\n",
    "val_data = pd.read_csv('/kaggle/input/Kannada-MNIST/Dig-MNIST.csv')#validation data"
   ]
  },
  {
   "cell_type": "markdown",
   "metadata": {},
   "source": [
    "# Split Data into label and pixels"
   ]
  },
  {
   "cell_type": "code",
   "execution_count": 3,
   "metadata": {
    "execution": {
     "iopub.execute_input": "2023-11-07T15:25:20.029594Z",
     "iopub.status.busy": "2023-11-07T15:25:20.029223Z",
     "iopub.status.idle": "2023-11-07T15:25:20.106744Z",
     "shell.execute_reply": "2023-11-07T15:25:20.105710Z",
     "shell.execute_reply.started": "2023-11-07T15:25:20.029529Z"
    }
   },
   "outputs": [],
   "source": [
    "train = train_data.iloc[:, 1:].values.astype(\"float32\") # cast the values in a NumPy array to floating point numbers with 32 bits of precision.\n",
    "train_label = train_data.iloc[:, 0].values.astype(\"int32\")#cast the values in a NumPy array to 32-bit signed intergers.\n",
    "test = test_data.iloc[:, 1:].values.astype(\"float32\")\n",
    "NumberID = test_data.iloc[:, 0].values.astype(\"float32\")\n",
    "val = val_data.iloc[:,1:].values.astype('float32') \n",
    "val_label = val_data.iloc[:,0].values.astype('int32') \n",
    "#I used 32 bit to speed up the calculation "
   ]
  },
  {
   "cell_type": "markdown",
   "metadata": {},
   "source": [
    "# Reshape for Image Visualize"
   ]
  },
  {
   "cell_type": "code",
   "execution_count": 4,
   "metadata": {
    "execution": {
     "iopub.execute_input": "2023-11-07T15:25:20.108317Z",
     "iopub.status.busy": "2023-11-07T15:25:20.107998Z",
     "iopub.status.idle": "2023-11-07T15:25:20.113916Z",
     "shell.execute_reply": "2023-11-07T15:25:20.113027Z",
     "shell.execute_reply.started": "2023-11-07T15:25:20.108269Z"
    }
   },
   "outputs": [],
   "source": [
    "Image=train.reshape(-1,28,28)"
   ]
  },
  {
   "cell_type": "code",
   "execution_count": 5,
   "metadata": {
    "execution": {
     "iopub.execute_input": "2023-11-07T15:25:20.115789Z",
     "iopub.status.busy": "2023-11-07T15:25:20.115355Z",
     "iopub.status.idle": "2023-11-07T15:25:21.527357Z",
     "shell.execute_reply": "2023-11-07T15:25:21.526350Z",
     "shell.execute_reply.started": "2023-11-07T15:25:20.115732Z"
    }
   },
   "outputs": [
    {
     "data": {
      "image/png": "[encoded data removed]",
      "text/plain": [
       "<Figure size 720x360 with 10 Axes>"
      ]
     },
     "metadata": {
      "needs_background": "light"
     },
     "output_type": "display_data"
    }
   ],
   "source": [
    "fig, axes = plt.subplots(2,5, figsize = (10,5))\n",
    "for i in range(10):\n",
    "    ax = axes[i//5, i%5]\n",
    "    ax.imshow(Image[i])\n",
    "    ax.set_title('Label:{}'.format(train_label[i]))\n",
    "\n",
    "plt.tight_layout()\n",
    "plt.show()"
   ]
  },
  {
   "cell_type": "markdown",
   "metadata": {},
   "source": [
    "# Reshape for CNN \n",
    "We reshape the value so they can be fed into the CNN network.\\\n",
    "The CNN input has to be (batch_size,image_height, image_width, color_channels).\\\n",
    "We will be using 28 height , 28 width and greyscale image would have a channel of 1.\n"
   ]
  },
  {
   "cell_type": "code",
   "execution_count": 6,
   "metadata": {
    "execution": {
     "iopub.execute_input": "2023-11-07T15:25:21.531532Z",
     "iopub.status.busy": "2023-11-07T15:25:21.530846Z",
     "iopub.status.idle": "2023-11-07T15:25:21.538148Z",
     "shell.execute_reply": "2023-11-07T15:25:21.537215Z",
     "shell.execute_reply.started": "2023-11-07T15:25:21.531461Z"
    }
   },
   "outputs": [],
   "source": [
    "\n",
    "train=train.reshape(-1,28,28,1) #-1 can be infer as n which means it is the number of row vector, channel of 1 \n",
    "\n",
    "test=test.reshape(-1,28,28,1)\n",
    "\n",
    "val = val.reshape(-1,28,28,1)\n"
   ]
  },
  {
   "cell_type": "code",
   "execution_count": 7,
   "metadata": {
    "execution": {
     "iopub.execute_input": "2023-11-07T15:25:21.540631Z",
     "iopub.status.busy": "2023-11-07T15:25:21.540005Z",
     "iopub.status.idle": "2023-11-07T15:25:21.551536Z",
     "shell.execute_reply": "2023-11-07T15:25:21.550652Z",
     "shell.execute_reply.started": "2023-11-07T15:25:21.540548Z"
    }
   },
   "outputs": [
    {
     "data": {
      "text/plain": [
       "((60000, 28, 28, 1), (5000, 28, 28, 1), (10240, 28, 28, 1))"
      ]
     },
     "execution_count": 7,
     "metadata": {},
     "output_type": "execute_result"
    }
   ],
   "source": [
    "train.shape, test.shape, val.shape"
   ]
  },
  {
   "cell_type": "markdown",
   "metadata": {},
   "source": [
    "# Feature Scaling\n",
    "We perform feature scaling for machine learning to interprest these features on the same scale. As the pixel values range from 0 to 256, apart from 0 the range is 255. So dividing all the values by 255 will convert it to range from 0 to 1."
   ]
  },
  {
   "cell_type": "code",
   "execution_count": 8,
   "metadata": {
    "execution": {
     "iopub.execute_input": "2023-11-07T15:25:21.553840Z",
     "iopub.status.busy": "2023-11-07T15:25:21.553197Z",
     "iopub.status.idle": "2023-11-07T15:25:21.588543Z",
     "shell.execute_reply": "2023-11-07T15:25:21.587624Z",
     "shell.execute_reply.started": "2023-11-07T15:25:21.553778Z"
    }
   },
   "outputs": [],
   "source": [
    "# Feature Scaling\n",
    "train /= 255.0\n",
    "test /= 255.0\n",
    "val /=255.0\n",
    "\n"
   ]
  },
  {
   "cell_type": "markdown",
   "metadata": {},
   "source": [
    "# Image Data Augmentation\n",
    "This allows my model to receive new variations of the images at each epoch. My accuracy has improved compare to training without data augmentation.\n"
   ]
  },
  {
   "cell_type": "code",
   "execution_count": 9,
   "metadata": {
    "execution": {
     "iopub.execute_input": "2023-11-07T15:25:21.591565Z",
     "iopub.status.busy": "2023-11-07T15:25:21.590208Z",
     "iopub.status.idle": "2023-11-07T15:25:21.677702Z",
     "shell.execute_reply": "2023-11-07T15:25:21.676618Z",
     "shell.execute_reply.started": "2023-11-07T15:25:21.591511Z"
    }
   },
   "outputs": [],
   "source": [
    "# Artificially increase training set\n",
    "train_datagen = ImageDataGenerator(rotation_range=10, #random rotate 10 degree\n",
    "                                   width_shift_range=0.25,\n",
    "                                   height_shift_range=0.25,\n",
    "                                   shear_range=0.1,\n",
    "                                   zoom_range=0.25, # random zoom\n",
    "                                   horizontal_flip=False) #do not flip the image horizontal because 6 can be 9 if filpped \n",
    "train_datagen.fit(train)"
   ]
  },
  {
   "cell_type": "markdown",
   "metadata": {},
   "source": [
    "# CNN Model"
   ]
  },
  {
   "cell_type": "markdown",
   "metadata": {},
   "source": [
    "I used CNN for the image classification because they can effectively extract features from images and learn to recognize patterns. I included BatchNormalization layers to speed up training and use higher learning rates, making learning easier."
   ]
  },
  {
   "cell_type": "code",
   "execution_count": 10,
   "metadata": {
    "execution": {
     "iopub.execute_input": "2023-11-07T15:25:21.679380Z",
     "iopub.status.busy": "2023-11-07T15:25:21.679038Z",
     "iopub.status.idle": "2023-11-07T15:25:22.047372Z",
     "shell.execute_reply": "2023-11-07T15:25:22.046523Z",
     "shell.execute_reply.started": "2023-11-07T15:25:21.679319Z"
    }
   },
   "outputs": [],
   "source": [
    "# Model architecture (normal)\n",
    "inputs = Input(shape=(28,28,1))\n",
    "#1st Layer\n",
    "#Using paddding = 'SAME' ensures that the filter is applied to all the elements of the input\n",
    "x = Conv2D(filters = 64, kernel_size = (3,3), padding = \"same\" ,activation = \"relu\")(inputs)\n",
    "x  = BatchNormalization()(x)\n",
    "x = Conv2D(filters = 64, kernel_size = (1,1),padding = \"same\" ,activation = \"relu\")(x)\n",
    "x  = BatchNormalization()(x)# #used to speed up training and use higher learning rates, making learning easier\n",
    "x = MaxPooling2D(pool_size=(2,2))(x)\n",
    "\n",
    "#2nd layer\n",
    "x = Conv2D(filters = 128, kernel_size = (3,3), padding = \"same\" ,activation = \"relu\")(x)\n",
    "x  = BatchNormalization()(x)\n",
    "x = Conv2D(filters = 128, kernel_size = (1,1),padding = \"same\" ,activation = \"relu\")(x)\n",
    "x  = BatchNormalization()(x)\n",
    "x = MaxPooling2D(pool_size=(2,2))(x)\n",
    "\n",
    "#3rd layer\n",
    "x = Conv2D(filters = 256, kernel_size = (3,3), padding = \"same\" ,activation = \"relu\")(x)\n",
    "x = Conv2D(filters = 256, kernel_size = (1,1),padding = \"same\" ,activation = \"relu\")(x)\n",
    "x  = BatchNormalization()(x)\n",
    "x = MaxPooling2D(pool_size=(2,2))(x)\n",
    "\n",
    "#4th\n",
    "x = Conv2D(filters = 512, kernel_size = (3,3),padding = \"same\" ,activation = \"relu\")(x)\n",
    "x  = BatchNormalization()(x)\n",
    "x = Conv2D(filters = 512, kernel_size = (1,1),padding = \"same\" ,activation = \"relu\")(x)\n",
    "x  = BatchNormalization()(x)\n",
    "x = MaxPooling2D(pool_size=(2,2))(x)\n",
    "\n",
    "\n",
    "\n",
    "x = Flatten(name='Flatten')(x) \n",
    "x = Dense(256, activation='relu', name=\"Dense_128\")(x)\n",
    "x = Dense(64, activation='relu', name=\"Dense_64\")(x)       \n",
    "x = Dense(32,activation='relu', name=\"Dense_16\")(x)\n",
    "\n",
    "output= Dense(10, activation='softmax')(x)\n",
    "\n",
    "model1=Model(inputs=[inputs], outputs=output)"
   ]
  },
  {
   "cell_type": "markdown",
   "metadata": {},
   "source": [
    "# Setting Hyperparameters\n",
    "I choose 50 epochs because it increased 10% of the accuracy for test data /\n"
   ]
  },
  {
   "cell_type": "code",
   "execution_count": 11,
   "metadata": {
    "execution": {
     "iopub.execute_input": "2023-11-07T15:25:22.048905Z",
     "iopub.status.busy": "2023-11-07T15:25:22.048596Z",
     "iopub.status.idle": "2023-11-07T15:25:22.052921Z",
     "shell.execute_reply": "2023-11-07T15:25:22.052120Z",
     "shell.execute_reply.started": "2023-11-07T15:25:22.048862Z"
    }
   },
   "outputs": [],
   "source": [
    "# Setting hyperparemeters\n",
    "epochs = 50 \n",
    "batch_size = 64"
   ]
  },
  {
   "cell_type": "markdown",
   "metadata": {},
   "source": [
    "Early stopping is used to avoid overfitting. I choose monitor as validation accuracy because I prioritize validation accuracy more. I have selected 10 epochs to wait before early stop. Verbose 1 to display messages when the callback takes an action."
   ]
  },
  {
   "cell_type": "code",
   "execution_count": 12,
   "metadata": {
    "execution": {
     "iopub.execute_input": "2023-11-07T15:25:22.054449Z",
     "iopub.status.busy": "2023-11-07T15:25:22.054144Z",
     "iopub.status.idle": "2023-11-07T15:25:22.063697Z",
     "shell.execute_reply": "2023-11-07T15:25:22.062862Z",
     "shell.execute_reply.started": "2023-11-07T15:25:22.054395Z"
    }
   },
   "outputs": [],
   "source": [
    "# Early Stopping\n",
    "early_stopping = EarlyStopping(monitor = 'val_acc',\n",
    "                               patience = 10,\n",
    "                               verbose = 1,\n",
    "                               mode = 'auto',\n",
    "                               restore_best_weights = True)"
   ]
  },
  {
   "cell_type": "markdown",
   "metadata": {},
   "source": [
    "# Compile model\n",
    "Optimizer for adam and sgd doesn't improve the accuracy much for this case but adam increased the speed of training. "
   ]
  },
  {
   "cell_type": "code",
   "execution_count": 13,
   "metadata": {
    "execution": {
     "iopub.execute_input": "2023-11-07T15:25:22.065222Z",
     "iopub.status.busy": "2023-11-07T15:25:22.064908Z",
     "iopub.status.idle": "2023-11-07T15:25:22.115325Z",
     "shell.execute_reply": "2023-11-07T15:25:22.114613Z",
     "shell.execute_reply.started": "2023-11-07T15:25:22.065175Z"
    }
   },
   "outputs": [],
   "source": [
    "model1.compile(optimizer = 'adam', loss = 'sparse_categorical_crossentropy', metrics = ['accuracy'])"
   ]
  },
  {
   "cell_type": "code",
   "execution_count": 14,
   "metadata": {
    "execution": {
     "iopub.execute_input": "2023-11-07T15:25:22.116842Z",
     "iopub.status.busy": "2023-11-07T15:25:22.116484Z",
     "iopub.status.idle": "2023-11-07T15:25:22.129117Z",
     "shell.execute_reply": "2023-11-07T15:25:22.128242Z",
     "shell.execute_reply.started": "2023-11-07T15:25:22.116792Z"
    }
   },
   "outputs": [
    {
     "name": "stdout",
     "output_type": "stream",
     "text": [
      "Model: \"model\"\n",
      "_________________________________________________________________\n",
      "Layer (type)                 Output Shape              Param #   \n",
      "=================================================================\n",
      "input_1 (InputLayer)         [(None, 28, 28, 1)]       0         \n",
      "_________________________________________________________________\n",
      "conv2d (Conv2D)              (None, 28, 28, 64)        640       \n",
      "_________________________________________________________________\n",
      "batch_normalization (BatchNo (None, 28, 28, 64)        256       \n",
      "_________________________________________________________________\n",
      "conv2d_1 (Conv2D)            (None, 28, 28, 64)        4160      \n",
      "_________________________________________________________________\n",
      "batch_normalization_1 (Batch (None, 28, 28, 64)        256       \n",
      "_________________________________________________________________\n",
      "max_pooling2d (MaxPooling2D) (None, 14, 14, 64)        0         \n",
      "_________________________________________________________________\n",
      "conv2d_2 (Conv2D)            (None, 14, 14, 128)       73856     \n",
      "_________________________________________________________________\n",
      "batch_normalization_2 (Batch (None, 14, 14, 128)       512       \n",
      "_________________________________________________________________\n",
      "conv2d_3 (Conv2D)            (None, 14, 14, 128)       16512     \n",
      "_________________________________________________________________\n",
      "batch_normalization_3 (Batch (None, 14, 14, 128)       512       \n",
      "_________________________________________________________________\n",
      "max_pooling2d_1 (MaxPooling2 (None, 7, 7, 128)         0         \n",
      "_________________________________________________________________\n",
      "conv2d_4 (Conv2D)            (None, 7, 7, 256)         295168    \n",
      "_________________________________________________________________\n",
      "conv2d_5 (Conv2D)            (None, 7, 7, 256)         65792     \n",
      "_________________________________________________________________\n",
      "batch_normalization_4 (Batch (None, 7, 7, 256)         1024      \n",
      "_________________________________________________________________\n",
      "max_pooling2d_2 (MaxPooling2 (None, 3, 3, 256)         0         \n",
      "_________________________________________________________________\n",
      "conv2d_6 (Conv2D)            (None, 3, 3, 512)         1180160   \n",
      "_________________________________________________________________\n",
      "batch_normalization_5 (Batch (None, 3, 3, 512)         2048      \n",
      "_________________________________________________________________\n",
      "conv2d_7 (Conv2D)            (None, 3, 3, 512)         262656    \n",
      "_________________________________________________________________\n",
      "batch_normalization_6 (Batch (None, 3, 3, 512)         2048      \n",
      "_________________________________________________________________\n",
      "max_pooling2d_3 (MaxPooling2 (None, 1, 1, 512)         0         \n",
      "_________________________________________________________________\n",
      "Flatten (Flatten)            (None, 512)               0         \n",
      "_________________________________________________________________\n",
      "Dense_128 (Dense)            (None, 256)               131328    \n",
      "_________________________________________________________________\n",
      "Dense_64 (Dense)             (None, 64)                16448     \n",
      "_________________________________________________________________\n",
      "Dense_16 (Dense)             (None, 32)                2080      \n",
      "_________________________________________________________________\n",
      "dense (Dense)                (None, 10)                330       \n",
      "=================================================================\n",
      "Total params: 2,055,786\n",
      "Trainable params: 2,052,458\n",
      "Non-trainable params: 3,328\n",
      "_________________________________________________________________\n"
     ]
    }
   ],
   "source": [
    "model1.summary()"
   ]
  },
  {
   "cell_type": "code",
   "execution_count": 15,
   "metadata": {
    "execution": {
     "iopub.execute_input": "2023-11-07T15:25:22.130899Z",
     "iopub.status.busy": "2023-11-07T15:25:22.130470Z"
    }
   },
   "outputs": [
    {
     "name": "stdout",
     "output_type": "stream",
     "text": [
      "Train for 937 steps, validate on 10240 samples\n",
      "Epoch 1/50\n",
      "937/937 [==============================] - 25s 26ms/step - loss: 0.2468 - accuracy: 0.9173 - val_loss: 0.7895 - val_accuracy: 0.7990\n",
      "Epoch 2/50\n",
      "937/937 [==============================] - 20s 22ms/step - loss: 0.0843 - accuracy: 0.9745 - val_loss: 0.6624 - val_accuracy: 0.8434\n",
      "Epoch 3/50\n",
      "937/937 [==============================] - 20s 22ms/step - loss: 0.0679 - accuracy: 0.9791 - val_loss: 0.6230 - val_accuracy: 0.8615\n",
      "Epoch 4/50\n",
      "937/937 [==============================] - 20s 22ms/step - loss: 0.0636 - accuracy: 0.9809 - val_loss: 0.6783 - val_accuracy: 0.8472\n",
      "Epoch 5/50\n",
      "937/937 [==============================] - 20s 22ms/step - loss: 0.0556 - accuracy: 0.9830 - val_loss: 0.6177 - val_accuracy: 0.8365\n",
      "Epoch 6/50\n",
      "937/937 [==============================] - 20s 22ms/step - loss: 0.0577 - accuracy: 0.9820 - val_loss: 0.7035 - val_accuracy: 0.8381\n",
      "Epoch 7/50\n",
      "937/937 [==============================] - 20s 22ms/step - loss: 0.0517 - accuracy: 0.9843 - val_loss: 0.6259 - val_accuracy: 0.8346\n",
      "Epoch 8/50\n",
      "937/937 [==============================] - 20s 22ms/step - loss: 0.0489 - accuracy: 0.9850 - val_loss: 0.8590 - val_accuracy: 0.8094\n",
      "Epoch 9/50\n",
      "937/937 [==============================] - 20s 22ms/step - loss: 0.0435 - accuracy: 0.9869 - val_loss: 0.5698 - val_accuracy: 0.8686\n",
      "Epoch 10/50\n",
      "937/937 [==============================] - 20s 22ms/step - loss: 0.0439 - accuracy: 0.9866 - val_loss: 0.5031 - val_accuracy: 0.8680\n",
      "Epoch 11/50\n",
      "937/937 [==============================] - 20s 22ms/step - loss: 0.0420 - accuracy: 0.9874 - val_loss: 0.4676 - val_accuracy: 0.8843\n",
      "Epoch 12/50\n",
      "937/937 [==============================] - 20s 22ms/step - loss: 0.0394 - accuracy: 0.9882 - val_loss: 0.5361 - val_accuracy: 0.8798\n",
      "Epoch 13/50\n",
      "937/937 [==============================] - 20s 22ms/step - loss: 0.0376 - accuracy: 0.9890 - val_loss: 0.5442 - val_accuracy: 0.8706\n",
      "Epoch 14/50\n",
      "937/937 [==============================] - 20s 22ms/step - loss: 0.0370 - accuracy: 0.9890 - val_loss: 0.4874 - val_accuracy: 0.8779\n",
      "Epoch 15/50\n",
      "937/937 [==============================] - 21s 22ms/step - loss: 0.0360 - accuracy: 0.9894 - val_loss: 0.5328 - val_accuracy: 0.8623\n",
      "Epoch 16/50\n",
      "937/937 [==============================] - 21s 22ms/step - loss: 0.0289 - accuracy: 0.9911 - val_loss: 0.5676 - val_accuracy: 0.8741\n",
      "Epoch 24/50\n",
      "937/937 [==============================] - 20s 22ms/step - loss: 0.0281 - accuracy: 0.9913 - val_loss: 0.6048 - val_accuracy: 0.8575\n",
      "Epoch 25/50\n",
      "937/937 [==============================] - 20s 22ms/step - loss: 0.0339 - accuracy: 0.9898 - val_loss: 0.6509 - val_accuracy: 0.8629\n",
      "Epoch 26/50\n",
      "937/937 [==============================] - 20s 22ms/step - loss: 0.0281 - accuracy: 0.9912 - val_loss: 0.5299 - val_accuracy: 0.8815\n",
      "Epoch 27/50\n",
      "937/937 [==============================] - 20s 22ms/step - loss: 0.0252 - accuracy: 0.9925 - val_loss: 0.8867 - val_accuracy: 0.8440\n",
      "Epoch 28/50\n",
      "937/937 [==============================] - 20s 22ms/step - loss: 0.0289 - accuracy: 0.9917 - val_loss: 0.6112 - val_accuracy: 0.8839\n",
      "Epoch 29/50\n",
      "937/937 [==============================] - 21s 22ms/step - loss: 0.0263 - accuracy: 0.9923 - val_loss: 1.0339 - val_accuracy: 0.7945\n",
      "Epoch 30/50\n",
      "937/937 [==============================] - 20s 22ms/step - loss: 0.0266 - accuracy: 0.9917 - val_loss: 0.5711 - val_accuracy: 0.8847\n",
      "Epoch 31/50\n",
      "937/937 [==============================] - 20s 22ms/step - loss: 0.0248 - accuracy: 0.9928 - val_loss: 0.5053 - val_accuracy: 0.9021\n",
      "Epoch 32/50\n",
      "937/937 [==============================] - 21s 22ms/step - loss: 0.0251 - accuracy: 0.9923 - val_loss: 0.6899 - val_accuracy: 0.8823\n",
      "Epoch 33/50\n",
      "937/937 [==============================] - 20s 22ms/step - loss: 0.0258 - accuracy: 0.9920 - val_loss: 0.5041 - val_accuracy: 0.8886\n",
      "Epoch 34/50\n",
      "937/937 [==============================] - 20s 22ms/step - loss: 0.0266 - accuracy: 0.9920 - val_loss: 0.5368 - val_accuracy: 0.8898\n",
      "Epoch 35/50\n",
      "937/937 [==============================] - 21s 22ms/step - loss: 0.0240 - accuracy: 0.9925 - val_loss: 0.5511 - val_accuracy: 0.8857\n",
      "Epoch 36/50\n",
      "937/937 [==============================] - 20s 22ms/step - loss: 0.0239 - accuracy: 0.9926 - val_loss: 0.6263 - val_accuracy: 0.8640\n",
      "Epoch 37/50\n",
      "937/937 [==============================] - 20s 22ms/step - loss: 0.0237 - accuracy: 0.9925 - val_loss: 0.6074 - val_accuracy: 0.8664\n",
      "Epoch 38/50\n",
      "937/937 [==============================] - 20s 22ms/step - loss: 0.0242 - accuracy: 0.9925 - val_loss: 0.7532 - val_accuracy: 0.8656\n",
      "Epoch 39/50\n",
      "937/937 [==============================] - 20s 22ms/step - loss: 0.0214 - accuracy: 0.9933 - val_loss: 0.7083 - val_accuracy: 0.8826\n",
      "Epoch 40/50\n",
      "937/937 [==============================] - 20s 22ms/step - loss: 0.0246 - accuracy: 0.9925 - val_loss: 0.7588 - val_accuracy: 0.8745\n",
      "Epoch 41/50\n",
      "906/937 [============================>.] - ETA: 0s - loss: 0.0235 - accuracy: 0.9926"
     ]
    }
   ],
   "source": [
    "history = model1.fit_generator(train_datagen.flow(train,train_label, batch_size = batch_size),\n",
    "                              epochs = epochs,\n",
    "                              steps_per_epoch = train.shape[0] // batch_size,\n",
    "                              validation_data = (val, val_label), \n",
    "                              callbacks = [early_stopping])"
   ]
  },
  {
   "cell_type": "code",
   "execution_count": 16,
   "metadata": {},
   "outputs": [
    {
     "data": {
      "text/plain": [
       "<matplotlib.axes._subplots.AxesSubplot at 0x7e3fd8010e10>"
      ]
     },
     "execution_count": 16,
     "metadata": {},
     "output_type": "execute_result"
    },
    {
     "data": {
      "image/png": "[encoded data removed]",
      "text/plain": [
       "<Figure size 432x288 with 1 Axes>"
      ]
     },
     "metadata": {
      "needs_background": "light"
     },
     "output_type": "display_data"
    },
    {
     "data": {
      "image/png": "[encoded data removed]",
      "text/plain": [
       "<Figure size 432x288 with 1 Axes>"
      ]
     },
     "metadata": {
      "needs_background": "light"
     },
     "output_type": "display_data"
    }
   ],
   "source": [
    "history_df = pd.DataFrame(history.history)\n",
    "history_df.loc[:, ['loss', 'val_loss']].plot(title=\"Cross-entropy\")\n",
    "history_df.loc[:, ['accuracy', 'val_accuracy']].plot(title=\"Accuracy\")"
   ]
  },
  {
   "cell_type": "code",
   "execution_count": 17,
   "metadata": {},
   "outputs": [],
   "source": [
    "# Submitting Predictions to Kaggle\n",
    "preds = tf.argmax(model1.predict(test),1)\n",
    "\n",
    "submission = pd.read_csv('/kaggle/input/Kannada-MNIST/sample_submission.csv')\n",
    "submission['label'] = preds\n",
    "submission.to_csv('submission.csv', index = False)"
   ]
  },
  {
   "cell_type": "code",
   "execution_count": null,
   "metadata": {},
   "outputs": [],
   "source": []
  },
  {
   "cell_type": "code",
   "execution_count": null,
   "metadata": {},
   "outputs": [],
   "source": []
  }
 ],
 "metadata": {
  "kernelspec": {
   "display_name": "Python 3",
   "language": "python",
   "name": "python3"
  },
  "language_info": {
   "codemirror_mode": {
    "name": "ipython",
    "version": 3
   },
   "file_extension": ".py",
   "mimetype": "text/x-python",
   "name": "python",
   "nbconvert_exporter": "python",
   "pygments_lexer": "ipython3",
   "version": "3.6.6"
  }
 },
 "nbformat": 4,
 "nbformat_minor": 4
}
