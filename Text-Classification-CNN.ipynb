{
 "cells": [
  {
   "cell_type": "code",
   "execution_count": 20,
   "metadata": {},
   "outputs": [],
   "source": [
    "import numpy as np\n",
    "import pandas as pd\n",
    "import tensorflow as tf\n",
    "import matplotlib.pyplot as plt\n",
    "import seaborn as sn\n",
    "from sklearn.model_selection import train_test_split\n",
    "from sklearn.metrics import confusion_matrix, ConfusionMatrixDisplay, accuracy_score\n",
    "from tensorflow.keras import datasets, layers, models"
   ]
  },
  {
   "cell_type": "markdown",
   "metadata": {},
   "source": [
    "# Import Data"
   ]
  },
  {
   "cell_type": "code",
   "execution_count": 21,
   "metadata": {},
   "outputs": [],
   "source": [
    "train = pd.read_csv('/Users/kachunsoh/ML/VS/computer_vision/Data/train.csv')#input your dataset pathway\n",
    "test = pd.read_csv('/Users/kachunsoh/ML/VS/computer_vision/Data/test.csv')"
   ]
  },
  {
   "cell_type": "code",
   "execution_count": 22,
   "metadata": {},
   "outputs": [
    {
     "name": "stdout",
     "output_type": "stream",
     "text": [
      "(42000, 28, 28, 1) (28000, 28, 28, 1)\n"
     ]
    }
   ],
   "source": [
    "trainlab=train['label']\n",
    "train=train.drop(columns=['label'])\n",
    "\n",
    "train=train.values.reshape(-1,28,28,1)\n",
    "train=train/255\n",
    "test=test.values.reshape(-1,28,28,1)\n",
    "test=test/255\n",
    "print(train.shape,test.shape)"
   ]
  },
  {
   "cell_type": "markdown",
   "metadata": {},
   "source": [
    "# Visualize Image"
   ]
  },
  {
   "cell_type": "code",
   "execution_count": 23,
   "metadata": {},
   "outputs": [
    {
     "data": {
      "image/png": "[encoded data removed]",
      "text/plain": [
       "<Figure size 640x480 with 1 Axes>"
      ]
     },
     "metadata": {},
     "output_type": "display_data"
    }
   ],
   "source": [
    "img = train[1]\n",
    "plt.imshow(img,cmap='gray')\n",
    "plt.axis(\"off\")\n",
    "plt.title('Label: {}'.format(trainlab[1]))\n",
    "plt.show()\n"
   ]
  },
  {
   "cell_type": "markdown",
   "metadata": {},
   "source": [
    "# CNN Model"
   ]
  },
  {
   "cell_type": "code",
   "execution_count": 24,
   "metadata": {},
   "outputs": [],
   "source": [
    "model = models.Sequential()\n",
    "model.add(layers.Conv2D(32, (5, 5), activation='relu', input_shape=(28,28,1)))\n",
    "model.add(layers.MaxPooling2D((2, 2)))\n",
    "model.add(layers.Conv2D(64, (3, 3), activation='relu'))\n",
    "model.add(layers.MaxPooling2D((2, 2)))\n",
    "model.add(layers.Conv2D(64, (3, 3), activation='relu'))\n",
    "model.add(layers.Flatten())\n",
    "model.add(layers.Dense(64, activation='relu'))\n",
    "model.add(layers.Dense(10, activation='softmax'))"
   ]
  },
  {
   "cell_type": "code",
   "execution_count": 25,
   "metadata": {},
   "outputs": [
    {
     "name": "stdout",
     "output_type": "stream",
     "text": [
      "Model: \"sequential_2\"\n",
      "_________________________________________________________________\n",
      " Layer (type)                Output Shape              Param #   \n",
      "=================================================================\n",
      " conv2d_6 (Conv2D)           (None, 24, 24, 32)        832       \n",
      "                                                                 \n",
      " max_pooling2d_4 (MaxPooling  (None, 12, 12, 32)       0         \n",
      " 2D)                                                             \n",
      "                                                                 \n",
      " conv2d_7 (Conv2D)           (None, 10, 10, 64)        18496     \n",
      "                                                                 \n",
      " max_pooling2d_5 (MaxPooling  (None, 5, 5, 64)         0         \n",
      " 2D)                                                             \n",
      "                                                                 \n",
      " conv2d_8 (Conv2D)           (None, 3, 3, 64)          36928     \n",
      "                                                                 \n",
      " flatten_2 (Flatten)         (None, 576)               0         \n",
      "                                                                 \n",
      " dense_4 (Dense)             (None, 64)                36928     \n",
      "                                                                 \n",
      " dense_5 (Dense)             (None, 10)                650       \n",
      "                                                                 \n",
      "=================================================================\n",
      "Total params: 93,834\n",
      "Trainable params: 93,834\n",
      "Non-trainable params: 0\n",
      "_________________________________________________________________\n"
     ]
    }
   ],
   "source": [
    "model.summary()"
   ]
  },
  {
   "cell_type": "markdown",
   "metadata": {},
   "source": [
    "# Compile the model and run"
   ]
  },
  {
   "cell_type": "code",
   "execution_count": 26,
   "metadata": {},
   "outputs": [],
   "source": [
    "model.compile(optimizer = 'adam' , loss = \"sparse_categorical_crossentropy\", metrics=[\"accuracy\"])"
   ]
  },
  {
   "cell_type": "code",
   "execution_count": 27,
   "metadata": {},
   "outputs": [
    {
     "name": "stdout",
     "output_type": "stream",
     "text": [
      "Epoch 1/20\n",
      "11/11 [==============================] - 6s 486ms/step - loss: 2.0607 - accuracy: 0.4990 - val_loss: 1.3915 - val_accuracy: 0.7277\n",
      "Epoch 2/20\n",
      "11/11 [==============================] - 5s 485ms/step - loss: 0.8570 - accuracy: 0.7973 - val_loss: 0.4948 - val_accuracy: 0.8508\n",
      "Epoch 3/20\n",
      "11/11 [==============================] - 5s 476ms/step - loss: 0.4612 - accuracy: 0.8643 - val_loss: 0.3806 - val_accuracy: 0.8883\n",
      "Epoch 4/20\n",
      "11/11 [==============================] - 5s 493ms/step - loss: 0.3487 - accuracy: 0.8953 - val_loss: 0.2951 - val_accuracy: 0.9074\n",
      "Epoch 5/20\n",
      "11/11 [==============================] - 5s 490ms/step - loss: 0.2741 - accuracy: 0.9182 - val_loss: 0.2324 - val_accuracy: 0.9288\n",
      "Epoch 6/20\n",
      "11/11 [==============================] - 5s 457ms/step - loss: 0.2168 - accuracy: 0.9358 - val_loss: 0.1900 - val_accuracy: 0.9436\n",
      "Epoch 7/20\n",
      "11/11 [==============================] - 5s 465ms/step - loss: 0.1786 - accuracy: 0.9458 - val_loss: 0.1577 - val_accuracy: 0.9511\n",
      "Epoch 8/20\n",
      "11/11 [==============================] - 6s 506ms/step - loss: 0.1506 - accuracy: 0.9551 - val_loss: 0.1367 - val_accuracy: 0.9579\n",
      "Epoch 9/20\n",
      "11/11 [==============================] - 5s 465ms/step - loss: 0.1289 - accuracy: 0.9615 - val_loss: 0.1203 - val_accuracy: 0.9636\n",
      "Epoch 10/20\n",
      "11/11 [==============================] - 5s 470ms/step - loss: 0.1151 - accuracy: 0.9663 - val_loss: 0.1054 - val_accuracy: 0.9679\n",
      "Epoch 11/20\n",
      "11/11 [==============================] - 5s 451ms/step - loss: 0.1019 - accuracy: 0.9703 - val_loss: 0.0913 - val_accuracy: 0.9721\n",
      "Epoch 12/20\n",
      "11/11 [==============================] - 5s 452ms/step - loss: 0.0884 - accuracy: 0.9734 - val_loss: 0.0852 - val_accuracy: 0.9733\n",
      "Epoch 13/20\n",
      "11/11 [==============================] - 5s 455ms/step - loss: 0.0846 - accuracy: 0.9751 - val_loss: 0.0804 - val_accuracy: 0.9742\n",
      "Epoch 14/20\n",
      "11/11 [==============================] - 5s 489ms/step - loss: 0.0795 - accuracy: 0.9758 - val_loss: 0.0792 - val_accuracy: 0.9744\n",
      "Epoch 15/20\n",
      "11/11 [==============================] - 6s 507ms/step - loss: 0.0729 - accuracy: 0.9779 - val_loss: 0.0749 - val_accuracy: 0.9746\n",
      "Epoch 16/20\n",
      "11/11 [==============================] - 5s 471ms/step - loss: 0.0658 - accuracy: 0.9804 - val_loss: 0.0667 - val_accuracy: 0.9792\n",
      "Epoch 17/20\n",
      "11/11 [==============================] - 7s 607ms/step - loss: 0.0625 - accuracy: 0.9812 - val_loss: 0.0624 - val_accuracy: 0.9795\n",
      "Epoch 18/20\n",
      "11/11 [==============================] - 7s 603ms/step - loss: 0.0589 - accuracy: 0.9821 - val_loss: 0.0583 - val_accuracy: 0.9804\n",
      "Epoch 19/20\n",
      "11/11 [==============================] - 6s 529ms/step - loss: 0.0547 - accuracy: 0.9837 - val_loss: 0.0565 - val_accuracy: 0.9817\n",
      "Epoch 20/20\n",
      "11/11 [==============================] - 6s 526ms/step - loss: 0.0524 - accuracy: 0.9842 - val_loss: 0.0554 - val_accuracy: 0.9815\n"
     ]
    }
   ],
   "source": [
    "history = model.fit(train,trainlab,validation_split=.2,shuffle=True, epochs=20, \n",
    "                       batch_size=3264)"
   ]
  },
  {
   "cell_type": "markdown",
   "metadata": {},
   "source": [
    "# Prediction"
   ]
  },
  {
   "cell_type": "code",
   "execution_count": 28,
   "metadata": {},
   "outputs": [
    {
     "name": "stdout",
     "output_type": "stream",
     "text": [
      "1313/1313 [==============================] - 5s 4ms/step\n"
     ]
    },
    {
     "data": {
      "text/html": [
       "<div>\n",
       "<style scoped>\n",
       "    .dataframe tbody tr th:only-of-type {\n",
       "        vertical-align: middle;\n",
       "    }\n",
       "\n",
       "    .dataframe tbody tr th {\n",
       "        vertical-align: top;\n",
       "    }\n",
       "\n",
       "    .dataframe thead th {\n",
       "        text-align: right;\n",
       "    }\n",
       "</style>\n",
       "<table border=\"1\" class=\"dataframe\">\n",
       "  <thead>\n",
       "    <tr style=\"text-align: right;\">\n",
       "      <th>col_0</th>\n",
       "      <th>0</th>\n",
       "      <th>1</th>\n",
       "      <th>2</th>\n",
       "      <th>3</th>\n",
       "      <th>4</th>\n",
       "      <th>5</th>\n",
       "      <th>6</th>\n",
       "      <th>7</th>\n",
       "      <th>8</th>\n",
       "      <th>9</th>\n",
       "      <th>All</th>\n",
       "    </tr>\n",
       "    <tr>\n",
       "      <th>label</th>\n",
       "      <th></th>\n",
       "      <th></th>\n",
       "      <th></th>\n",
       "      <th></th>\n",
       "      <th></th>\n",
       "      <th></th>\n",
       "      <th></th>\n",
       "      <th></th>\n",
       "      <th></th>\n",
       "      <th></th>\n",
       "      <th></th>\n",
       "    </tr>\n",
       "  </thead>\n",
       "  <tbody>\n",
       "    <tr>\n",
       "      <th>0</th>\n",
       "      <td>4093</td>\n",
       "      <td>0</td>\n",
       "      <td>11</td>\n",
       "      <td>1</td>\n",
       "      <td>2</td>\n",
       "      <td>3</td>\n",
       "      <td>11</td>\n",
       "      <td>0</td>\n",
       "      <td>6</td>\n",
       "      <td>5</td>\n",
       "      <td>4132</td>\n",
       "    </tr>\n",
       "    <tr>\n",
       "      <th>1</th>\n",
       "      <td>0</td>\n",
       "      <td>4639</td>\n",
       "      <td>19</td>\n",
       "      <td>5</td>\n",
       "      <td>2</td>\n",
       "      <td>0</td>\n",
       "      <td>0</td>\n",
       "      <td>11</td>\n",
       "      <td>8</td>\n",
       "      <td>0</td>\n",
       "      <td>4684</td>\n",
       "    </tr>\n",
       "    <tr>\n",
       "      <th>2</th>\n",
       "      <td>5</td>\n",
       "      <td>5</td>\n",
       "      <td>4137</td>\n",
       "      <td>5</td>\n",
       "      <td>2</td>\n",
       "      <td>0</td>\n",
       "      <td>1</td>\n",
       "      <td>8</td>\n",
       "      <td>7</td>\n",
       "      <td>7</td>\n",
       "      <td>4177</td>\n",
       "    </tr>\n",
       "    <tr>\n",
       "      <th>3</th>\n",
       "      <td>4</td>\n",
       "      <td>0</td>\n",
       "      <td>26</td>\n",
       "      <td>4263</td>\n",
       "      <td>0</td>\n",
       "      <td>28</td>\n",
       "      <td>0</td>\n",
       "      <td>7</td>\n",
       "      <td>13</td>\n",
       "      <td>10</td>\n",
       "      <td>4351</td>\n",
       "    </tr>\n",
       "    <tr>\n",
       "      <th>4</th>\n",
       "      <td>4</td>\n",
       "      <td>7</td>\n",
       "      <td>9</td>\n",
       "      <td>0</td>\n",
       "      <td>3960</td>\n",
       "      <td>0</td>\n",
       "      <td>13</td>\n",
       "      <td>4</td>\n",
       "      <td>8</td>\n",
       "      <td>67</td>\n",
       "      <td>4072</td>\n",
       "    </tr>\n",
       "    <tr>\n",
       "      <th>5</th>\n",
       "      <td>3</td>\n",
       "      <td>1</td>\n",
       "      <td>3</td>\n",
       "      <td>13</td>\n",
       "      <td>4</td>\n",
       "      <td>3737</td>\n",
       "      <td>11</td>\n",
       "      <td>1</td>\n",
       "      <td>14</td>\n",
       "      <td>8</td>\n",
       "      <td>3795</td>\n",
       "    </tr>\n",
       "    <tr>\n",
       "      <th>6</th>\n",
       "      <td>14</td>\n",
       "      <td>2</td>\n",
       "      <td>2</td>\n",
       "      <td>0</td>\n",
       "      <td>4</td>\n",
       "      <td>13</td>\n",
       "      <td>4097</td>\n",
       "      <td>0</td>\n",
       "      <td>5</td>\n",
       "      <td>0</td>\n",
       "      <td>4137</td>\n",
       "    </tr>\n",
       "    <tr>\n",
       "      <th>7</th>\n",
       "      <td>3</td>\n",
       "      <td>9</td>\n",
       "      <td>48</td>\n",
       "      <td>7</td>\n",
       "      <td>2</td>\n",
       "      <td>2</td>\n",
       "      <td>0</td>\n",
       "      <td>4298</td>\n",
       "      <td>10</td>\n",
       "      <td>22</td>\n",
       "      <td>4401</td>\n",
       "    </tr>\n",
       "    <tr>\n",
       "      <th>8</th>\n",
       "      <td>6</td>\n",
       "      <td>10</td>\n",
       "      <td>14</td>\n",
       "      <td>8</td>\n",
       "      <td>0</td>\n",
       "      <td>10</td>\n",
       "      <td>6</td>\n",
       "      <td>1</td>\n",
       "      <td>3991</td>\n",
       "      <td>17</td>\n",
       "      <td>4063</td>\n",
       "    </tr>\n",
       "    <tr>\n",
       "      <th>9</th>\n",
       "      <td>11</td>\n",
       "      <td>3</td>\n",
       "      <td>3</td>\n",
       "      <td>14</td>\n",
       "      <td>6</td>\n",
       "      <td>10</td>\n",
       "      <td>0</td>\n",
       "      <td>15</td>\n",
       "      <td>15</td>\n",
       "      <td>4111</td>\n",
       "      <td>4188</td>\n",
       "    </tr>\n",
       "    <tr>\n",
       "      <th>All</th>\n",
       "      <td>4143</td>\n",
       "      <td>4676</td>\n",
       "      <td>4272</td>\n",
       "      <td>4316</td>\n",
       "      <td>3982</td>\n",
       "      <td>3803</td>\n",
       "      <td>4139</td>\n",
       "      <td>4345</td>\n",
       "      <td>4077</td>\n",
       "      <td>4247</td>\n",
       "      <td>42000</td>\n",
       "    </tr>\n",
       "  </tbody>\n",
       "</table>\n",
       "</div>"
      ],
      "text/plain": [
       "col_0     0     1     2     3     4     5     6     7     8     9    All\n",
       "label                                                                   \n",
       "0      4093     0    11     1     2     3    11     0     6     5   4132\n",
       "1         0  4639    19     5     2     0     0    11     8     0   4684\n",
       "2         5     5  4137     5     2     0     1     8     7     7   4177\n",
       "3         4     0    26  4263     0    28     0     7    13    10   4351\n",
       "4         4     7     9     0  3960     0    13     4     8    67   4072\n",
       "5         3     1     3    13     4  3737    11     1    14     8   3795\n",
       "6        14     2     2     0     4    13  4097     0     5     0   4137\n",
       "7         3     9    48     7     2     2     0  4298    10    22   4401\n",
       "8         6    10    14     8     0    10     6     1  3991    17   4063\n",
       "9        11     3     3    14     6    10     0    15    15  4111   4188\n",
       "All    4143  4676  4272  4316  3982  3803  4139  4345  4077  4247  42000"
      ]
     },
     "execution_count": 28,
     "metadata": {},
     "output_type": "execute_result"
    }
   ],
   "source": [
    "#make prediction\n",
    "pred1=tf.argmax(model.predict(train),1)\n",
    "pd.crosstab(trainlab, pred1, margins=True)"
   ]
  },
  {
   "cell_type": "markdown",
   "metadata": {},
   "source": [
    "# Confusion Matrix "
   ]
  },
  {
   "cell_type": "code",
   "execution_count": 30,
   "metadata": {},
   "outputs": [
    {
     "data": {
      "text/plain": [
       "<sklearn.metrics._plot.confusion_matrix.ConfusionMatrixDisplay at 0x28bf929d0>"
      ]
     },
     "execution_count": 30,
     "metadata": {},
     "output_type": "execute_result"
    },
    {
     "data": {
      "image/png": "[encoded data removed]",
      "text/plain": [
       "<Figure size 640x480 with 2 Axes>"
      ]
     },
     "metadata": {},
     "output_type": "display_data"
    }
   ],
   "source": [
    "cm = confusion_matrix(trainlab, pred1)\n",
    "cm_disp = ConfusionMatrixDisplay(cm)\n",
    "cm_disp.plot()"
   ]
  },
  {
   "cell_type": "markdown",
   "metadata": {},
   "source": [
    "# Accuracy"
   ]
  },
  {
   "cell_type": "code",
   "execution_count": 29,
   "metadata": {},
   "outputs": [
    {
     "data": {
      "text/plain": [
       "0.9839523809523809"
      ]
     },
     "execution_count": 29,
     "metadata": {},
     "output_type": "execute_result"
    }
   ],
   "source": [
    "sum(np.diagonal(pd.crosstab(trainlab,pred1)))/42000"
   ]
  },
  {
   "cell_type": "code",
   "execution_count": null,
   "metadata": {},
   "outputs": [],
   "source": []
  }
 ],
 "metadata": {
  "kernelspec": {
   "display_name": "Python 3",
   "language": "python",
   "name": "python3"
  },
  "language_info": {
   "codemirror_mode": {
    "name": "ipython",
    "version": 3
   },
   "file_extension": ".py",
   "mimetype": "text/x-python",
   "name": "python",
   "nbconvert_exporter": "python",
   "pygments_lexer": "ipython3",
   "version": "3.11.5"
  },
  "orig_nbformat": 4
 },
 "nbformat": 4,
 "nbformat_minor": 2
}
